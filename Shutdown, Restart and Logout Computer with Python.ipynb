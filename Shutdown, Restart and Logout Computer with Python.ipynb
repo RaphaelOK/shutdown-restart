{
 "cells": [
  {
   "cell_type": "code",
   "execution_count": null,
   "metadata": {},
   "outputs": [
    {
     "name": "stdout",
     "output_type": "stream",
     "text": [
      "1. Shutdown the computer\n",
      "2. Restart the computer\n",
      "3. Logout the user\n"
     ]
    }
   ],
   "source": [
    "import os\n",
    "\n",
    "# Function to shutdown the computer\n",
    "def shutdown():\n",
    "    os.system(\"shutdown /s /t 1\")\n",
    "\n",
    "# Function to restart the computer\n",
    "def restart():\n",
    "    os.system(\"shutdown /r /t 1\")\n",
    "\n",
    "# Function to logout the user\n",
    "def logout():\n",
    "    os.system(\"shutdown -l\")\n",
    "\n",
    "# Main function to ask for user input\n",
    "def main():\n",
    "    print(\"1. Shutdown the computer\")\n",
    "    print(\"2. Restart the computer\")\n",
    "    print(\"3. Logout the user\")\n",
    "    choice = int(input(\"Enter your choice: \"))\n",
    "    if choice == 1:\n",
    "        shutdown()\n",
    "    elif choice == 2:\n",
    "        restart()\n",
    "    elif choice == 3:\n",
    "        logout()\n",
    "    else:\n",
    "        print(\"Invalid choice\")\n",
    "\n",
    "if __name__ == \"__main__\":\n",
    "    main()\n"
   ]
  },
  {
   "cell_type": "code",
   "execution_count": null,
   "metadata": {},
   "outputs": [],
   "source": []
  }
 ],
 "metadata": {
  "kernelspec": {
   "display_name": "Python 3",
   "language": "python",
   "name": "python3"
  },
  "language_info": {
   "codemirror_mode": {
    "name": "ipython",
    "version": 3
   },
   "file_extension": ".py",
   "mimetype": "text/x-python",
   "name": "python",
   "nbconvert_exporter": "python",
   "pygments_lexer": "ipython3",
   "version": "3.8.3"
  }
 },
 "nbformat": 4,
 "nbformat_minor": 4
}
